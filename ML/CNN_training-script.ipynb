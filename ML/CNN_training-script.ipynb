{
  "nbformat": 4,
  "nbformat_minor": 0,
  "metadata": {
    "colab": {
      "name": "AI-bootcamp-TensorFlow.ipynb",
      "provenance": [],
      "collapsed_sections": []
    },
    "kernelspec": {
      "name": "python3",
      "display_name": "Python 3"
    },
    "language_info": {
      "name": "python"
    },
    "accelerator": "GPU"
  },
  "cells": [
    {
      "cell_type": "code",
      "metadata": {
        "id": "P_5oQbBFkTJn"
      },
      "source": [
        "# Import the required dependencies\n",
        "import tensorflow as tf\n",
        "from tensorflow.keras import datasets, layers, models\n",
        "from tensorflow.keras.callbacks import EarlyStopping\n",
        "from tensorflow.keras.layers import BatchNormalization\n",
        "from tensorflow.keras.utils import to_categorical\n",
        "import matplotlib.pyplot as plt\n",
        "import cv2\n",
        "import numpy as np"
      ],
      "execution_count": 1,
      "outputs": []
    },
    {
      "cell_type": "code",
      "metadata": {
        "id": "7FoHn-f_3qN9",
        "colab": {
          "base_uri": "https://localhost:8080/"
        },
        "outputId": "c8e1a083-d875-4764-e8f9-450d4799753c"
      },
      "source": [
        "# Load the dataset\n",
        "(train_images, train_labels), (test_images, test_labels) = datasets.cifar10.load_data()\n",
        "\n",
        "# Change the integer-encoding to one-hot-encoding\n",
        "# So that model don't assume a natural ordering between categories\n",
        "train_labels = to_categorical(train_labels)\n",
        "test_labels = to_categorical(test_labels)\n",
        "\n",
        "train_labels = train_labels.astype('float32')\n",
        "test_labels = test_labels.astype('float32')"
      ],
      "execution_count": 2,
      "outputs": [
        {
          "output_type": "stream",
          "name": "stdout",
          "text": [
            "Downloading data from https://www.cs.toronto.edu/~kriz/cifar-10-python.tar.gz\n",
            "170500096/170498071 [==============================] - 2s 0us/step\n",
            "170508288/170498071 [==============================] - 2s 0us/step\n"
          ]
        }
      ]
    },
    {
      "cell_type": "code",
      "metadata": {
        "id": "ALVjGBrwkcR1",
        "colab": {
          "base_uri": "https://localhost:8080/"
        },
        "outputId": "f19838cb-751e-4042-d365-18e35ee557d5"
      },
      "source": [
        "print(\"Train Images Shape : \" + str(train_images.shape))\n",
        "print(\"Test Images Shape : \" + str(test_images.shape))\n",
        "\n",
        "# Normalize pixel values to be between 0 and 1\n",
        "train_images, test_images = train_images / 255.0, test_images / 255.0"
      ],
      "execution_count": 3,
      "outputs": [
        {
          "output_type": "stream",
          "name": "stdout",
          "text": [
            "Train Images Shape : (50000, 32, 32, 3)\n",
            "Test Images Shape : (10000, 32, 32, 3)\n"
          ]
        }
      ]
    },
    {
      "cell_type": "code",
      "metadata": {
        "id": "pnsg-w89kh2i"
      },
      "source": [
        "# The classes in CIFAR-10 dataset\n",
        "class_names = ['airplane', 'automobile', 'bird', 'cat', 'deer',\n",
        "               'dog', 'frog', 'horse', 'ship', 'truck']"
      ],
      "execution_count": 4,
      "outputs": []
    },
    {
      "cell_type": "code",
      "metadata": {
        "id": "56IlrxTZMcak",
        "colab": {
          "base_uri": "https://localhost:8080/"
        },
        "outputId": "ac59cb2d-2950-419a-82a2-805d72f79caa"
      },
      "source": [
        "model = models.Sequential()\n",
        "model.add(layers.Conv2D(32, (3, 3), activation='relu', padding='same', input_shape=(32, 32, 3)))\n",
        "model.add(layers.Conv2D(32, (3, 3) , activation='relu', ))\n",
        "model.add(layers.MaxPooling2D((2, 2)))\n",
        "model.add(layers.Dropout(0.25))\n",
        "model.add(layers.Conv2D(64, (3, 3) , activation='relu', padding='same'))\n",
        "model.add(layers.Conv2D(64, (3, 3), activation='relu'))\n",
        "model.add(layers.MaxPooling2D((2, 2)))\n",
        "model.add(layers.Dropout(0.25))\n",
        "model.add(layers.Flatten())\n",
        "model.add(BatchNormalization()) \n",
        "model.add(layers.Dense(512, activation='relu'))\n",
        "model.add(layers.Dropout(0.5))\n",
        "model.add(layers.Dense(10, activation='softmax'))\n",
        "model.summary()"
      ],
      "execution_count": 5,
      "outputs": [
        {
          "output_type": "stream",
          "name": "stdout",
          "text": [
            "Model: \"sequential\"\n",
            "_________________________________________________________________\n",
            "Layer (type)                 Output Shape              Param #   \n",
            "=================================================================\n",
            "conv2d (Conv2D)              (None, 32, 32, 32)        896       \n",
            "_________________________________________________________________\n",
            "conv2d_1 (Conv2D)            (None, 30, 30, 32)        9248      \n",
            "_________________________________________________________________\n",
            "max_pooling2d (MaxPooling2D) (None, 15, 15, 32)        0         \n",
            "_________________________________________________________________\n",
            "dropout (Dropout)            (None, 15, 15, 32)        0         \n",
            "_________________________________________________________________\n",
            "conv2d_2 (Conv2D)            (None, 15, 15, 64)        18496     \n",
            "_________________________________________________________________\n",
            "conv2d_3 (Conv2D)            (None, 13, 13, 64)        36928     \n",
            "_________________________________________________________________\n",
            "max_pooling2d_1 (MaxPooling2 (None, 6, 6, 64)          0         \n",
            "_________________________________________________________________\n",
            "dropout_1 (Dropout)          (None, 6, 6, 64)          0         \n",
            "_________________________________________________________________\n",
            "flatten (Flatten)            (None, 2304)              0         \n",
            "_________________________________________________________________\n",
            "batch_normalization (BatchNo (None, 2304)              9216      \n",
            "_________________________________________________________________\n",
            "dense (Dense)                (None, 512)               1180160   \n",
            "_________________________________________________________________\n",
            "dropout_2 (Dropout)          (None, 512)               0         \n",
            "_________________________________________________________________\n",
            "dense_1 (Dense)              (None, 10)                5130      \n",
            "=================================================================\n",
            "Total params: 1,260,074\n",
            "Trainable params: 1,255,466\n",
            "Non-trainable params: 4,608\n",
            "_________________________________________________________________\n"
          ]
        }
      ]
    },
    {
      "cell_type": "markdown",
      "metadata": {
        "id": "DSTUukCrKtw4"
      },
      "source": [
        ""
      ]
    },
    {
      "cell_type": "code",
      "metadata": {
        "id": "1S2W37WrktuW"
      },
      "source": [
        "earlystop_callback = EarlyStopping(\n",
        "  monitor='val_loss', min_delta=0, patience=4)"
      ],
      "execution_count": 6,
      "outputs": []
    },
    {
      "cell_type": "code",
      "metadata": {
        "id": "Cz43xyJTDpm9"
      },
      "source": [
        "model.compile(optimizer = tf.keras.optimizers.RMSprop(learning_rate=0.0001, decay=1e-06),\n",
        "              loss=tf.keras.losses.CategoricalCrossentropy(),\n",
        "              metrics=['accuracy'])"
      ],
      "execution_count": 7,
      "outputs": []
    },
    {
      "cell_type": "code",
      "metadata": {
        "colab": {
          "base_uri": "https://localhost:8080/"
        },
        "id": "E6-I0KPJ7Ih-",
        "outputId": "45bfe745-d65d-498d-da5f-918bd5192548"
      },
      "source": [
        "history = model.fit(train_images, train_labels, epochs=40, verbose=1,\n",
        "                    validation_data=(test_images, test_labels), batch_size=256, shuffle=True, callbacks=[earlystop_callback])\n",
        "test_loss, test_accuracy = model.evaluate(test_images, test_labels)\n",
        "print(\"Test accuracy: {:.2f}%\".format(test_accuracy * 100 ))"
      ],
      "execution_count": 8,
      "outputs": [
        {
          "output_type": "stream",
          "name": "stdout",
          "text": [
            "Epoch 1/40\n",
            "196/196 [==============================] - 39s 57ms/step - loss: 1.9187 - accuracy: 0.3027 - val_loss: 2.1525 - val_accuracy: 0.4152\n",
            "Epoch 2/40\n",
            "196/196 [==============================] - 10s 53ms/step - loss: 1.5304 - accuracy: 0.4415 - val_loss: 1.8637 - val_accuracy: 0.4795\n",
            "Epoch 3/40\n",
            "196/196 [==============================] - 10s 53ms/step - loss: 1.4012 - accuracy: 0.4947 - val_loss: 1.4998 - val_accuracy: 0.5027\n",
            "Epoch 4/40\n",
            "196/196 [==============================] - 10s 53ms/step - loss: 1.3211 - accuracy: 0.5289 - val_loss: 1.3358 - val_accuracy: 0.5204\n",
            "Epoch 5/40\n",
            "196/196 [==============================] - 10s 53ms/step - loss: 1.2489 - accuracy: 0.5519 - val_loss: 1.2180 - val_accuracy: 0.5648\n",
            "Epoch 6/40\n",
            "196/196 [==============================] - 10s 53ms/step - loss: 1.1877 - accuracy: 0.5799 - val_loss: 1.2467 - val_accuracy: 0.5520\n",
            "Epoch 7/40\n",
            "196/196 [==============================] - 10s 53ms/step - loss: 1.1312 - accuracy: 0.5984 - val_loss: 1.1573 - val_accuracy: 0.5910\n",
            "Epoch 8/40\n",
            "196/196 [==============================] - 11s 54ms/step - loss: 1.0839 - accuracy: 0.6163 - val_loss: 1.1481 - val_accuracy: 0.5981\n",
            "Epoch 9/40\n",
            "196/196 [==============================] - 10s 53ms/step - loss: 1.0445 - accuracy: 0.6319 - val_loss: 1.0279 - val_accuracy: 0.6343\n",
            "Epoch 10/40\n",
            "196/196 [==============================] - 10s 53ms/step - loss: 1.0034 - accuracy: 0.6492 - val_loss: 1.0302 - val_accuracy: 0.6279\n",
            "Epoch 11/40\n",
            "196/196 [==============================] - 10s 53ms/step - loss: 0.9739 - accuracy: 0.6579 - val_loss: 0.9649 - val_accuracy: 0.6570\n",
            "Epoch 12/40\n",
            "196/196 [==============================] - 10s 53ms/step - loss: 0.9412 - accuracy: 0.6671 - val_loss: 0.9684 - val_accuracy: 0.6613\n",
            "Epoch 13/40\n",
            "196/196 [==============================] - 11s 54ms/step - loss: 0.9137 - accuracy: 0.6787 - val_loss: 0.9081 - val_accuracy: 0.6807\n",
            "Epoch 14/40\n",
            "196/196 [==============================] - 11s 54ms/step - loss: 0.8886 - accuracy: 0.6858 - val_loss: 1.0780 - val_accuracy: 0.6327\n",
            "Epoch 15/40\n",
            "196/196 [==============================] - 11s 54ms/step - loss: 0.8609 - accuracy: 0.6989 - val_loss: 0.9657 - val_accuracy: 0.6627\n",
            "Epoch 16/40\n",
            "196/196 [==============================] - 10s 53ms/step - loss: 0.8462 - accuracy: 0.7033 - val_loss: 0.9065 - val_accuracy: 0.6865\n",
            "Epoch 17/40\n",
            "196/196 [==============================] - 10s 53ms/step - loss: 0.8250 - accuracy: 0.7108 - val_loss: 0.8594 - val_accuracy: 0.7056\n",
            "Epoch 18/40\n",
            "196/196 [==============================] - 10s 53ms/step - loss: 0.8069 - accuracy: 0.7155 - val_loss: 0.9028 - val_accuracy: 0.6767\n",
            "Epoch 19/40\n",
            "196/196 [==============================] - 10s 53ms/step - loss: 0.7888 - accuracy: 0.7236 - val_loss: 0.8337 - val_accuracy: 0.7082\n",
            "Epoch 20/40\n",
            "196/196 [==============================] - 10s 53ms/step - loss: 0.7688 - accuracy: 0.7295 - val_loss: 0.8295 - val_accuracy: 0.7067\n",
            "Epoch 21/40\n",
            "196/196 [==============================] - 10s 53ms/step - loss: 0.7552 - accuracy: 0.7338 - val_loss: 0.8104 - val_accuracy: 0.7125\n",
            "Epoch 22/40\n",
            "196/196 [==============================] - 10s 53ms/step - loss: 0.7361 - accuracy: 0.7420 - val_loss: 0.7375 - val_accuracy: 0.7437\n",
            "Epoch 23/40\n",
            "196/196 [==============================] - 10s 53ms/step - loss: 0.7260 - accuracy: 0.7470 - val_loss: 0.7323 - val_accuracy: 0.7423\n",
            "Epoch 24/40\n",
            "196/196 [==============================] - 11s 54ms/step - loss: 0.7134 - accuracy: 0.7487 - val_loss: 0.7547 - val_accuracy: 0.7379\n",
            "Epoch 25/40\n",
            "196/196 [==============================] - 10s 53ms/step - loss: 0.6989 - accuracy: 0.7552 - val_loss: 0.7650 - val_accuracy: 0.7335\n",
            "Epoch 26/40\n",
            "196/196 [==============================] - 10s 53ms/step - loss: 0.6830 - accuracy: 0.7629 - val_loss: 0.7658 - val_accuracy: 0.7365\n",
            "Epoch 27/40\n",
            "196/196 [==============================] - 10s 53ms/step - loss: 0.6732 - accuracy: 0.7652 - val_loss: 0.7180 - val_accuracy: 0.7499\n",
            "Epoch 28/40\n",
            "196/196 [==============================] - 10s 54ms/step - loss: 0.6626 - accuracy: 0.7686 - val_loss: 0.7288 - val_accuracy: 0.7481\n",
            "Epoch 29/40\n",
            "196/196 [==============================] - 10s 53ms/step - loss: 0.6506 - accuracy: 0.7733 - val_loss: 0.7070 - val_accuracy: 0.7586\n",
            "Epoch 30/40\n",
            "196/196 [==============================] - 10s 53ms/step - loss: 0.6448 - accuracy: 0.7739 - val_loss: 0.7050 - val_accuracy: 0.7589\n",
            "Epoch 31/40\n",
            "196/196 [==============================] - 10s 53ms/step - loss: 0.6320 - accuracy: 0.7777 - val_loss: 0.7486 - val_accuracy: 0.7395\n",
            "Epoch 32/40\n",
            "196/196 [==============================] - 10s 53ms/step - loss: 0.6177 - accuracy: 0.7837 - val_loss: 0.8556 - val_accuracy: 0.7032\n",
            "Epoch 33/40\n",
            "196/196 [==============================] - 10s 53ms/step - loss: 0.6095 - accuracy: 0.7852 - val_loss: 0.7322 - val_accuracy: 0.7496\n",
            "Epoch 34/40\n",
            "196/196 [==============================] - 10s 53ms/step - loss: 0.6033 - accuracy: 0.7905 - val_loss: 0.7493 - val_accuracy: 0.7456\n",
            "313/313 [==============================] - 2s 6ms/step - loss: 0.7493 - accuracy: 0.7456\n",
            "Test accuracy: 74.56%\n"
          ]
        }
      ]
    },
    {
      "cell_type": "code",
      "metadata": {
        "colab": {
          "base_uri": "https://localhost:8080/",
          "height": 573
        },
        "id": "zPf7LnnI7Fzg",
        "outputId": "cdc4741e-2869-44fd-8fef-4b43766f328e"
      },
      "source": [
        "plt.plot(history.history['accuracy'])\n",
        "plt.plot(history.history['val_accuracy'])\n",
        "plt.title('model accuracy')\n",
        "plt.ylabel('accuracy')\n",
        "plt.xlabel('epoch')\n",
        "plt.legend(['train', 'val'], loc='upper left')\n",
        "plt.show()\n",
        "\n",
        "\n",
        "plt.plot(history.history['loss'])\n",
        "plt.plot(history.history['val_loss'])\n",
        "plt.title('model loss')\n",
        "plt.ylabel('loss')\n",
        "plt.xlabel('epoch')\n",
        "plt.legend(['train', 'val'], loc='upper left')\n",
        "plt.show()"
      ],
      "execution_count": 9,
      "outputs": [
        {
          "output_type": "display_data",
          "data": {
            "image/png": "[encoded data removed]",
            "text/plain": [
              "<Figure size 432x288 with 1 Axes>"
            ]
          },
          "metadata": {
            "needs_background": "light"
          }
        },
        {
          "output_type": "display_data",
          "data": {
            "image/png": "[encoded data removed]",
            "text/plain": [
              "<Figure size 432x288 with 1 Axes>"
            ]
          },
          "metadata": {
            "needs_background": "light"
          }
        }
      ]
    },
    {
      "cell_type": "code",
      "metadata": {
        "id": "lhsQgUCtuzB6"
      },
      "source": [
        "model.save('my_model.h5')"
      ],
      "execution_count": 10,
      "outputs": []
    },
    {
      "cell_type": "code",
      "metadata": {
        "id": "rX74zSVzzjtT"
      },
      "source": [
        "\"\"\"\n",
        "Run this cell, by replacing \"<IMAGE_PATH_HERE>\" with your image path to test a custom image\n",
        "\"\"\"\n",
        "# Recreate the exact same model, including its weights and the optimizer\n",
        "new_model = tf.keras.models.load_model('my_model.h5')\n",
        "\n",
        "def test(img_path):\n",
        "    img = cv2.imread(img_path)\n",
        "    img = cv2.cvtColor(img, cv2.COLOR_BGR2RGB)\n",
        "    img = cv2.resize(img, (32, 32))\n",
        "    img = img / 255.0\n",
        "    res = model.predict(np.array([img]))\n",
        "    ans = np.argmax(res)\n",
        "    print(class_names[ans])\n",
        "\n",
        "test(\"<IMAGE_PATH_HERE>\")"
      ],
      "execution_count": null,
      "outputs": []
    }
  ]
}