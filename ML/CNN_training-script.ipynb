{
  "nbformat": 4,
  "nbformat_minor": 0,
  "metadata": {
    "colab": {
      "name": "AI-bootcamp-TensorFlow.ipynb",
      "provenance": [],
      "collapsed_sections": []
    },
    "kernelspec": {
      "name": "python3",
      "display_name": "Python 3"
    },
    "language_info": {
      "name": "python"
    },
    "accelerator": "GPU"
  },
  "cells": [
    {
      "cell_type": "code",
      "metadata": {
        "id": "P_5oQbBFkTJn"
      },
      "source": [
        "import tensorflow as tf\n",
        "from tensorflow.keras import datasets, layers, models\n",
        "from tensorflow.keras.callbacks import EarlyStopping\n",
        "import matplotlib.pyplot as plt\n",
        "import cv2\n",
        "import numpy as np"
      ],
      "execution_count": 1,
      "outputs": []
    },
    {
      "cell_type": "code",
      "metadata": {
        "id": "7FoHn-f_3qN9",
        "colab": {
          "base_uri": "https://localhost:8080/"
        },
        "outputId": "9534b486-37eb-41d7-c6dc-bf0663bcd39f"
      },
      "source": [
        "(train_images, train_labels), (test_images, test_labels) = datasets.cifar10.load_data()"
      ],
      "execution_count": 2,
      "outputs": [
        {
          "output_type": "stream",
          "name": "stdout",
          "text": [
            "Downloading data from https://www.cs.toronto.edu/~kriz/cifar-10-python.tar.gz\n",
            "170500096/170498071 [==============================] - 2s 0us/step\n",
            "170508288/170498071 [==============================] - 2s 0us/step\n"
          ]
        }
      ]
    },
    {
      "cell_type": "code",
      "metadata": {
        "id": "ALVjGBrwkcR1",
        "colab": {
          "base_uri": "https://localhost:8080/"
        },
        "outputId": "8f4125fd-ab26-4f10-f6f6-4962d6d0f203"
      },
      "source": [
        "print(\"Train Images Shape : \" + str(train_images.shape))\n",
        "print(\"Test Images Shape : \" + str(test_images.shape))\n",
        "# Normalize pixel values to be between 0 and 1\n",
        "train_images, test_images = train_images / 255.0, test_images / 255.0"
      ],
      "execution_count": 3,
      "outputs": [
        {
          "output_type": "stream",
          "name": "stdout",
          "text": [
            "Train Images Shape : (50000, 32, 32, 3)\n",
            "Test Images Shape : (10000, 32, 32, 3)\n"
          ]
        }
      ]
    },
    {
      "cell_type": "code",
      "metadata": {
        "id": "pnsg-w89kh2i"
      },
      "source": [
        "# The classes in CIFAR-10 dataset\n",
        "class_names = ['airplane', 'automobile', 'bird', 'cat', 'deer',\n",
        "               'dog', 'frog', 'horse', 'ship', 'truck']"
      ],
      "execution_count": 4,
      "outputs": []
    },
    {
      "cell_type": "code",
      "metadata": {
        "id": "56IlrxTZMcak"
      },
      "source": [
        "data_augmentation = tf.keras.Sequential([\n",
        "  layers.experimental.preprocessing.RandomFlip(\"horizontal_and_vertical\"),\n",
        "  layers.experimental.preprocessing.RandomRotation(0.2),\n",
        "])"
      ],
      "execution_count": 5,
      "outputs": []
    },
    {
      "cell_type": "markdown",
      "metadata": {
        "id": "DSTUukCrKtw4"
      },
      "source": [
        ""
      ]
    },
    {
      "cell_type": "code",
      "metadata": {
        "id": "REQV4SV0kkfL"
      },
      "source": [
        "model = models.Sequential()\n",
        "model.add(data_augmentation)\n",
        "model.add(layers.Conv2D(32, (3, 3), activation='relu', input_shape=(32, 32, 3)))\n",
        "model.add(layers.MaxPooling2D((2, 2)))\n",
        "model.add(layers.Conv2D(64, (3, 3), activation='relu'))\n",
        "model.add(layers.MaxPooling2D((2, 2)))\n",
        "model.add(layers.Conv2D(64, (3, 3), activation='relu'))\n",
        "model.add(layers.MaxPooling2D((2, 2)))\n",
        "# model.summary()"
      ],
      "execution_count": 7,
      "outputs": []
    },
    {
      "cell_type": "code",
      "metadata": {
        "id": "1S2W37WrktuW"
      },
      "source": [
        "model.add(layers.Flatten())\n",
        "model.add(layers.Dense(128, activation='relu'))\n",
        "model.add(layers.Dropout(0.25))\n",
        "model.add(layers.Dense(64, activation='relu'))\n",
        "model.add(layers.Dropout(0.10))\n",
        "model.add(layers.Dense(10, activation='softmax'))\n",
        "# model.summary()"
      ],
      "execution_count": 9,
      "outputs": []
    },
    {
      "cell_type": "code",
      "metadata": {
        "id": "Cz43xyJTDpm9"
      },
      "source": [
        "earlystop_callback = EarlyStopping(\n",
        "  monitor='val_loss', min_delta=0, patience=3)"
      ],
      "execution_count": 10,
      "outputs": []
    },
    {
      "cell_type": "code",
      "metadata": {
        "id": "lhsQgUCtuzB6",
        "colab": {
          "base_uri": "https://localhost:8080/"
        },
        "outputId": "63fae963-7fde-4230-97ea-f64958be62e0"
      },
      "source": [
        "model.compile(optimizer='adam',\n",
        "              loss=tf.keras.losses.SparseCategoricalCrossentropy(),\n",
        "              metrics=['accuracy'])\n",
        "\n",
        "history = model.fit(train_images, train_labels, epochs=15, verbose=1,\n",
        "                    validation_data=(test_images, test_labels), shuffle=True, callbacks=[earlystop_callback])\n",
        "model.summary()\n",
        "test_loss, test_accuracy = model.evaluate(test_images, test_labels)\n",
        "print(\"Test accuracy: {:.2f}%\".format(test_accuracy * 100 ))\n"
      ],
      "execution_count": 11,
      "outputs": [
        {
          "output_type": "stream",
          "name": "stdout",
          "text": [
            "Epoch 1/15\n",
            "1563/1563 [==============================] - 45s 11ms/step - loss: 2.0638 - accuracy: 0.1995 - val_loss: 1.9093 - val_accuracy: 0.2564\n",
            "Epoch 2/15\n",
            "1563/1563 [==============================] - 16s 10ms/step - loss: 1.8991 - accuracy: 0.2619 - val_loss: 1.8285 - val_accuracy: 0.2907\n",
            "Epoch 3/15\n",
            "1563/1563 [==============================] - 16s 10ms/step - loss: 1.7900 - accuracy: 0.3088 - val_loss: 1.6645 - val_accuracy: 0.3551\n",
            "Epoch 4/15\n",
            "1563/1563 [==============================] - 16s 10ms/step - loss: 1.7045 - accuracy: 0.3547 - val_loss: 1.6435 - val_accuracy: 0.3794\n",
            "Epoch 5/15\n",
            "1563/1563 [==============================] - 16s 10ms/step - loss: 1.6462 - accuracy: 0.3840 - val_loss: 1.5447 - val_accuracy: 0.4096\n",
            "Epoch 6/15\n",
            "1563/1563 [==============================] - 16s 11ms/step - loss: 1.6037 - accuracy: 0.4030 - val_loss: 1.4972 - val_accuracy: 0.4392\n",
            "Epoch 7/15\n",
            "1563/1563 [==============================] - 17s 11ms/step - loss: 1.5671 - accuracy: 0.4229 - val_loss: 1.4705 - val_accuracy: 0.4560\n",
            "Epoch 8/15\n",
            "1563/1563 [==============================] - 16s 10ms/step - loss: 1.5421 - accuracy: 0.4351 - val_loss: 1.4475 - val_accuracy: 0.4637\n",
            "Epoch 9/15\n",
            "1563/1563 [==============================] - 16s 10ms/step - loss: 1.5143 - accuracy: 0.4457 - val_loss: 1.4399 - val_accuracy: 0.4700\n",
            "Epoch 10/15\n",
            "1563/1563 [==============================] - 16s 10ms/step - loss: 1.4921 - accuracy: 0.4564 - val_loss: 1.4388 - val_accuracy: 0.4677\n",
            "Epoch 11/15\n",
            "1563/1563 [==============================] - 16s 10ms/step - loss: 1.4739 - accuracy: 0.4634 - val_loss: 1.3568 - val_accuracy: 0.5010\n",
            "Epoch 12/15\n",
            "1563/1563 [==============================] - 16s 10ms/step - loss: 1.4547 - accuracy: 0.4749 - val_loss: 1.3777 - val_accuracy: 0.4991\n",
            "Epoch 13/15\n",
            "1563/1563 [==============================] - 16s 10ms/step - loss: 1.4362 - accuracy: 0.4797 - val_loss: 1.3725 - val_accuracy: 0.5048\n",
            "Epoch 14/15\n",
            "1563/1563 [==============================] - 16s 10ms/step - loss: 1.4206 - accuracy: 0.4863 - val_loss: 1.3179 - val_accuracy: 0.5326\n",
            "Epoch 15/15\n",
            "1563/1563 [==============================] - 16s 10ms/step - loss: 1.4127 - accuracy: 0.4962 - val_loss: 1.3555 - val_accuracy: 0.5157\n",
            "Model: \"sequential_2\"\n",
            "_________________________________________________________________\n",
            "Layer (type)                 Output Shape              Param #   \n",
            "=================================================================\n",
            "sequential (Sequential)      (None, 32, 32, 3)         0         \n",
            "_________________________________________________________________\n",
            "conv2d_3 (Conv2D)            (None, 30, 30, 32)        896       \n",
            "_________________________________________________________________\n",
            "max_pooling2d_3 (MaxPooling2 (None, 15, 15, 32)        0         \n",
            "_________________________________________________________________\n",
            "conv2d_4 (Conv2D)            (None, 13, 13, 64)        18496     \n",
            "_________________________________________________________________\n",
            "max_pooling2d_4 (MaxPooling2 (None, 6, 6, 64)          0         \n",
            "_________________________________________________________________\n",
            "conv2d_5 (Conv2D)            (None, 4, 4, 64)          36928     \n",
            "_________________________________________________________________\n",
            "max_pooling2d_5 (MaxPooling2 (None, 2, 2, 64)          0         \n",
            "_________________________________________________________________\n",
            "flatten (Flatten)            (None, 256)               0         \n",
            "_________________________________________________________________\n",
            "dense (Dense)                (None, 128)               32896     \n",
            "_________________________________________________________________\n",
            "dropout (Dropout)            (None, 128)               0         \n",
            "_________________________________________________________________\n",
            "dense_1 (Dense)              (None, 64)                8256      \n",
            "_________________________________________________________________\n",
            "dropout_1 (Dropout)          (None, 64)                0         \n",
            "_________________________________________________________________\n",
            "dense_2 (Dense)              (None, 10)                650       \n",
            "_________________________________________________________________\n",
            "flatten_1 (Flatten)          (None, 10)                0         \n",
            "_________________________________________________________________\n",
            "dense_3 (Dense)              (None, 128)               1408      \n",
            "_________________________________________________________________\n",
            "dropout_2 (Dropout)          (None, 128)               0         \n",
            "_________________________________________________________________\n",
            "dense_4 (Dense)              (None, 64)                8256      \n",
            "_________________________________________________________________\n",
            "dropout_3 (Dropout)          (None, 64)                0         \n",
            "_________________________________________________________________\n",
            "dense_5 (Dense)              (None, 10)                650       \n",
            "=================================================================\n",
            "Total params: 108,436\n",
            "Trainable params: 108,436\n",
            "Non-trainable params: 0\n",
            "_________________________________________________________________\n",
            "313/313 [==============================] - 1s 4ms/step - loss: 1.3555 - accuracy: 0.5157\n",
            "Test accuracy: 51.57%\n"
          ]
        }
      ]
    },
    {
      "cell_type": "code",
      "metadata": {
        "id": "Wuoal3-Iu7cV"
      },
      "source": [
        "plt.plot(history.history['accuracy'], label='accuracy')\n",
        "plt.plot(history.history['val_accuracy'], label = 'val_accuracy')\n",
        "plt.xlabel('Epoch')\n",
        "plt.ylabel('Accuracy')\n",
        "plt.ylim([0.5, 1])\n",
        "plt.legend(loc='lower right')\n",
        "\n",
        "test_loss, test_acc = model.evaluate(test_images,  test_labels, verbose=2)"
      ],
      "execution_count": null,
      "outputs": []
    },
    {
      "cell_type": "code",
      "metadata": {
        "id": "rX74zSVzzjtT"
      },
      "source": [
        "model.save('my_model.h5')"
      ],
      "execution_count": null,
      "outputs": []
    },
    {
      "cell_type": "code",
      "metadata": {
        "id": "ulaj7RbI6Z8-"
      },
      "source": [
        "\"\"\"\n",
        "Run this cell, by replacing \"<IMAGE_PATH_HERE>\" with your image path to test a custom image\n",
        "\"\"\"\n",
        "# Recreate the exact same model, including its weights and the optimizer\n",
        "new_model = tf.keras.models.load_model('my_model.h5')\n",
        "\n",
        "def test(img_path):\n",
        "    img = cv2.imread(img_path)\n",
        "    img = cv2.cvtColor(img, cv2.COLOR_BGR2RGB)\n",
        "    img = cv2.resize(img, (32, 32))\n",
        "    img = img / 255.0\n",
        "    res = model.predict(np.array([img]))\n",
        "    ans = np.argmax(res)\n",
        "    print(class_names[ans])\n",
        "\n",
        "test(\"<IMAGE_PATH_HERE>\")"
      ],
      "execution_count": null,
      "outputs": []
    },
    {
      "cell_type": "code",
      "metadata": {
        "id": "BgfA2e8C2Hox"
      },
      "source": [
        ""
      ],
      "execution_count": null,
      "outputs": []
    }
  ]
}